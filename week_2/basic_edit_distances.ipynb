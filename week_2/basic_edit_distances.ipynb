{
 "cells": [
  {
   "cell_type": "code",
   "execution_count": null,
   "metadata": {},
   "outputs": [],
   "source": [
    "from nltk.metrics import *\n",
    "print(edit_distance(\"rain\", \"rayn\"))\n",
    "print(edit_distance(\"rain\", \"cricket\"))"
   ]
  },
  {
   "cell_type": "code",
   "execution_count": null,
   "metadata": {},
   "outputs": [],
   "source": [
    "import nltk.data\n",
    "from nltk.tokenize import TreebankWordTokenizer\n",
    "sentence_tokenizer = nltk.data.load('tokenizers/punkt/english.pickle')\n",
    "treebank_tokenizer = TreebankWordTokenizer()\n",
    "\n",
    "dir_base = \"/Users/teacher/repos/f20_ds_nlp/classes/week_2/\"\n",
    "\n",
    "def read_file_and_tokenize(filename):\n",
    "    input_file = open(dir_base + \"data/\" + filename , encoding='utf-8').read()\n",
    "    punkt_sentences = sentence_tokenizer.tokenize(input_file)\n",
    "    sentences_words = [treebank_tokenizer.tokenize(sentence) for sentence in punkt_sentences]\n",
    "    return sentences_words\n",
    "\n",
    "error_newswire = read_file_and_tokenize(\"newswire_error.txt\")\n",
    "print(error_newswire)"
   ]
  },
  {
   "cell_type": "code",
   "execution_count": null,
   "metadata": {},
   "outputs": [],
   "source": [
    "target_word = \"Hinman\"\n",
    "possible_misspellings = [word for sentence in error_newswire for word in sentence if edit_distance(word, target_word) < 2]\n",
    "print(possible_misspellings)"
   ]
  },
  {
   "cell_type": "code",
   "execution_count": null,
   "metadata": {},
   "outputs": [],
   "source": []
  }
 ],
 "metadata": {
  "kernelspec": {
   "display_name": "Python 3",
   "language": "python",
   "name": "python3"
  },
  "language_info": {
   "codemirror_mode": {
    "name": "ipython",
    "version": 3
   },
   "file_extension": ".py",
   "mimetype": "text/x-python",
   "name": "python",
   "nbconvert_exporter": "python",
   "pygments_lexer": "ipython3",
   "version": "3.7.6"
  }
 },
 "nbformat": 4,
 "nbformat_minor": 2
}
