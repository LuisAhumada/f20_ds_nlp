{
 "cells": [
  {
   "cell_type": "code",
   "execution_count": null,
   "metadata": {},
   "outputs": [],
   "source": [
    "import spacy"
   ]
  },
  {
   "cell_type": "code",
   "execution_count": null,
   "metadata": {},
   "outputs": [],
   "source": [
    "nlp = spacy.load('en')"
   ]
  },
  {
   "cell_type": "code",
   "execution_count": null,
   "metadata": {},
   "outputs": [],
   "source": [
    "text = \"\"\"As a low-cost option for wireless service, Visible has been anything but. The budget wireless provider, a part of Verizon, wants to change that.\n",
    "\n",
    "Visible launched last year with little fanfare, offering a stripped down, iPhone-only version of wireless service you could access only through an app. It offers you a decent deal -- as long as you don't mind artificially limited speeds. The service has only one option, a $40 plan (taxes included) that covers unlimited text message, voice, wireless hotspot and data -- that's always limited to 5 megabits a second.\n",
    "\n",
    "The service has been operating quietly for the last few months as it works to get its infrastructure ready to handle a large volume of customers. (Despite running on Verizon's network, the business built out a more efficient network within Verizon to handle its customers.) But on Thursday, the company said it would begin financing iPhones for customers who wanted a new device. Separately, Visible also said it would support Android smartphones, starting with the Galaxy S9 and S9+.\"\"\""
   ]
  },
  {
   "cell_type": "code",
   "execution_count": null,
   "metadata": {},
   "outputs": [],
   "source": [
    "a = nlp(text)"
   ]
  },
  {
   "cell_type": "code",
   "execution_count": null,
   "metadata": {},
   "outputs": [],
   "source": [
    "print(a.sents)"
   ]
  },
  {
   "cell_type": "code",
   "execution_count": null,
   "metadata": {},
   "outputs": [],
   "source": [
    "for sent in a.sents:\n",
    "    print(sent)\n",
    "    print(\"&&&&\")"
   ]
  },
  {
   "cell_type": "code",
   "execution_count": null,
   "metadata": {},
   "outputs": [],
   "source": [
    "for token in a:\n",
    "        print(token, \" -- \", token.is_stop, \" -- \", token.lemma_)"
   ]
  },
  {
   "cell_type": "code",
   "execution_count": null,
   "metadata": {},
   "outputs": [],
   "source": [
    "print(a.ents)"
   ]
  },
  {
   "cell_type": "code",
   "execution_count": null,
   "metadata": {},
   "outputs": [],
   "source": [
    "print(a[5])"
   ]
  },
  {
   "cell_type": "code",
   "execution_count": null,
   "metadata": {},
   "outputs": [],
   "source": [
    "print(a[5].lemma_)"
   ]
  },
  {
   "cell_type": "code",
   "execution_count": null,
   "metadata": {},
   "outputs": [],
   "source": [
    "test = [1,2,3,4,5,6]\n",
    "\n",
    "output = [(1,2), (2,3)]\n",
    "real_output = []\n",
    "for index, i in enumerate(test):\n",
    "    print(index, \" -- \", i)\n",
    "    if index == len(test) -1:\n",
    "        break\n",
    "    real_output.append((test[index], test[index + 1]))\n",
    "print(real_output)"
   ]
  },
  {
   "cell_type": "code",
   "execution_count": null,
   "metadata": {},
   "outputs": [],
   "source": []
  }
 ],
 "metadata": {
  "kernelspec": {
   "display_name": "Python 3",
   "language": "python",
   "name": "python3"
  },
  "language_info": {
   "codemirror_mode": {
    "name": "ipython",
    "version": 3
   },
   "file_extension": ".py",
   "mimetype": "text/x-python",
   "name": "python",
   "nbconvert_exporter": "python",
   "pygments_lexer": "ipython3",
   "version": "3.7.6"
  }
 },
 "nbformat": 4,
 "nbformat_minor": 2
}
