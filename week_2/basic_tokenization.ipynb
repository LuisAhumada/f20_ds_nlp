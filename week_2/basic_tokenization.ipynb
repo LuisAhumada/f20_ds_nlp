{
 "cells": [
  {
   "cell_type": "code",
   "execution_count": null,
   "metadata": {},
   "outputs": [],
   "source": [
    "input = \"This is a test sentence.\"\n",
    "input.split(\" \")"
   ]
  },
  {
   "cell_type": "code",
   "execution_count": null,
   "metadata": {},
   "outputs": [],
   "source": [
    "input = \"John     Smith, M.D. is a neurologist at a place.\"\n",
    "input.split(\" \")"
   ]
  },
  {
   "cell_type": "code",
   "execution_count": null,
   "metadata": {},
   "outputs": [],
   "source": [
    "from nltk.tokenize import word_tokenize\n",
    "output = word_tokenize(input)\n",
    "print(output)"
   ]
  },
  {
   "cell_type": "code",
   "execution_count": null,
   "metadata": {},
   "outputs": [],
   "source": [
    "from nltk.tokenize import TreebankWordTokenizer\n",
    "treebank_tokenizer = TreebankWordTokenizer()\n",
    "treebank_tokenizer.tokenize(input)"
   ]
  },
  {
   "cell_type": "code",
   "execution_count": null,
   "metadata": {},
   "outputs": [],
   "source": [
    "dir_base = \"/Users/teacher/repos/f20_ds_nlp/classes/week_2/\"\n",
    "newswire = open(dir_base + \"data/newswire.txt\", encoding='utf-8').read()\n",
    "print(newswire)"
   ]
  },
  {
   "cell_type": "code",
   "execution_count": null,
   "metadata": {
    "scrolled": true
   },
   "outputs": [],
   "source": [
    "newswire_tokens = word_tokenize(newswire)\n",
    "print(newswire_tokens)"
   ]
  },
  {
   "cell_type": "code",
   "execution_count": null,
   "metadata": {},
   "outputs": [],
   "source": [
    "import nltk.data\n",
    "sentence_tokenizer = nltk.data.load('tokenizers/punkt/english.pickle')\n",
    "punkt_sentences = sentence_tokenizer.tokenize(newswire)\n",
    "print(punkt_sentences)"
   ]
  },
  {
   "cell_type": "code",
   "execution_count": null,
   "metadata": {},
   "outputs": [],
   "source": [
    "sentences_words = [treebank_tokenizer.tokenize(sentence) for sentence in punkt_sentences]\n",
    "print(sentences_words)"
   ]
  },
  {
   "cell_type": "code",
   "execution_count": null,
   "metadata": {},
   "outputs": [],
   "source": [
    "def read_file_and_tokenize(filename):\n",
    "    input_file = open(dir_base + \"data/\" + filename , encoding='utf-8').read()\n",
    "    print(input_file)\n",
    "    punkt_sentences = sentence_tokenizer.tokenize(input_file)\n",
    "    print(punkt_sentences)\n",
    "    sentences_words = [treebank_tokenizer.tokenize(sentence) for sentence in punkt_sentences]\n",
    "    return sentences_words\n",
    "\n",
    "doc_words = read_file_and_tokenize(\"frankenstein.txt\")\n",
    "print(doc_words)"
   ]
  },
  {
   "cell_type": "code",
   "execution_count": null,
   "metadata": {},
   "outputs": [],
   "source": [
    "doc_words = read_file_and_tokenize(\"nasdaq_tweet.txt\")\n",
    "print(doc_words)"
   ]
  },
  {
   "cell_type": "code",
   "execution_count": null,
   "metadata": {},
   "outputs": [],
   "source": [
    "doc_words = read_file_and_tokenize(\"pirep.txt\")\n",
    "print(doc_words)"
   ]
  },
  {
   "cell_type": "code",
   "execution_count": null,
   "metadata": {},
   "outputs": [],
   "source": [
    "doc_words = read_file_and_tokenize(\"chuck_todd_tweet.txt\")\n",
    "print(doc_words)"
   ]
  },
  {
   "cell_type": "code",
   "execution_count": null,
   "metadata": {},
   "outputs": [],
   "source": [
    "from nltk.tokenize import TweetTokenizer\n",
    "tweet_tokenizer = TweetTokenizer()\n",
    "\n",
    "def read_tweet_and_tokenize(filename):\n",
    "    input_file = open(dir_base + \"data/\" + filename , encoding='utf-8').read()\n",
    "    print(input_file)\n",
    "    tweet_words = tweet_tokenizer.tokenize(input_file)\n",
    "    return tweet_words\n",
    "\n",
    "tweet_words = read_tweet_and_tokenize(\"chuck_todd_tweet.txt\")\n",
    "print(tweet_words)"
   ]
  },
  {
   "cell_type": "code",
   "execution_count": null,
   "metadata": {},
   "outputs": [],
   "source": []
  }
 ],
 "metadata": {
  "kernelspec": {
   "display_name": "Python 3",
   "language": "python",
   "name": "python3"
  },
  "language_info": {
   "codemirror_mode": {
    "name": "ipython",
    "version": 3
   },
   "file_extension": ".py",
   "mimetype": "text/x-python",
   "name": "python",
   "nbconvert_exporter": "python",
   "pygments_lexer": "ipython3",
   "version": "3.7.6"
  }
 },
 "nbformat": 4,
 "nbformat_minor": 2
}
