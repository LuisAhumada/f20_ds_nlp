{
 "cells": [
  {
   "cell_type": "markdown",
   "metadata": {},
   "source": [
    "# Homework #1"
   ]
  },
  {
   "cell_type": "markdown",
   "metadata": {},
   "source": [
    "In this homework you will be analyzing presidential debate texts. Specifically, you will be trying to identify rhetorical questions in the debate text. We will operate that a rhetorical question is a sentence that is a question, but that is not answered by another speaker. In the context of this debate text, we will assume that a rhetorical question is any that occurs within a single speaker's response. \n",
    "\n",
    "So for example, the following would be considered rhetorical for our purposes:\n",
    "    I have one last part here. I decided I was dumb and didn't understand it, so I called the \"Who's Who\" of the folks that have been around it. ==An example rhetorical question ==> And I said, \"Why won't everybody go south?\" They say, \"It would be disruptive.\"  ==An example rhetorical question ==>  I said, \"For how long?\" I finally got them up for 12 to 15 years.  ==An example rhetorical question ==> And I said, \"Well, how does it stop being disruptive?\" And that is, when their jobs come up from $1 an hour to $6 an hour, and ours go down to $6 an hour, then it's leveled again. But in the meantime, you've wrecked the country with these kinds of deals. We've got to cut it out.\n",
    "    \n",
    "A key task here will be to iterate through all the debates and then segment the speech into sentences. Identify the sentences which are questions or contain questions. The only thing to check for is whether it is at the end of a speaker turn. \n",
    "\n",
    "For stretch goals that could count as extra credit, you can try to identify who said the rhetorical question (which would require tracking which part of the debate you are in). Also, you could try to identify what the repsonse to the question was. You could further examine the ways in which the rhetorical questions might differ from other statements."
   ]
  },
  {
   "cell_type": "code",
   "execution_count": 1,
   "metadata": {},
   "outputs": [
    {
     "ename": "FileNotFoundError",
     "evalue": "[Errno 2] No such file or directory: '/repos/GWU/gwu_nlp_s19/homeworks/homework_1/data/'",
     "output_type": "error",
     "traceback": [
      "\u001b[0;31m---------------------------------------------------------------------------\u001b[0m",
      "\u001b[0;31mFileNotFoundError\u001b[0m                         Traceback (most recent call last)",
      "\u001b[0;32m<ipython-input-1-d46d274710c4>\u001b[0m in \u001b[0;36m<module>\u001b[0;34m()\u001b[0m\n\u001b[1;32m     28\u001b[0m     \u001b[0;32mreturn\u001b[0m \u001b[0mfile_texts\u001b[0m\u001b[0;34m\u001b[0m\u001b[0m\n\u001b[1;32m     29\u001b[0m \u001b[0;34m\u001b[0m\u001b[0m\n\u001b[0;32m---> 30\u001b[0;31m \u001b[0mtext_corpus\u001b[0m \u001b[0;34m=\u001b[0m \u001b[0mread_directory_files\u001b[0m\u001b[0;34m(\u001b[0m\u001b[0mdir_base\u001b[0m\u001b[0;34m)\u001b[0m\u001b[0;34m\u001b[0m\u001b[0m\n\u001b[0m\u001b[1;32m     31\u001b[0m \u001b[0mprint\u001b[0m\u001b[0;34m(\u001b[0m\u001b[0mtext_corpus\u001b[0m\u001b[0;34m)\u001b[0m\u001b[0;34m\u001b[0m\u001b[0m\n",
      "\u001b[0;32m<ipython-input-1-d46d274710c4>\u001b[0m in \u001b[0;36mread_directory_files\u001b[0;34m(directory)\u001b[0m\n\u001b[1;32m     21\u001b[0m \u001b[0;32mdef\u001b[0m \u001b[0mread_directory_files\u001b[0m\u001b[0;34m(\u001b[0m\u001b[0mdirectory\u001b[0m\u001b[0;34m)\u001b[0m\u001b[0;34m:\u001b[0m\u001b[0;34m\u001b[0m\u001b[0m\n\u001b[1;32m     22\u001b[0m     \u001b[0mfile_texts\u001b[0m \u001b[0;34m=\u001b[0m \u001b[0;34m[\u001b[0m\u001b[0;34m]\u001b[0m\u001b[0;34m\u001b[0m\u001b[0m\n\u001b[0;32m---> 23\u001b[0;31m     \u001b[0mfiles\u001b[0m \u001b[0;34m=\u001b[0m \u001b[0;34m[\u001b[0m\u001b[0mf\u001b[0m \u001b[0;32mfor\u001b[0m \u001b[0mf\u001b[0m \u001b[0;32min\u001b[0m \u001b[0mlistdir\u001b[0m\u001b[0;34m(\u001b[0m\u001b[0mdirectory\u001b[0m\u001b[0;34m)\u001b[0m \u001b[0;32mif\u001b[0m \u001b[0misfile\u001b[0m\u001b[0;34m(\u001b[0m\u001b[0mjoin\u001b[0m\u001b[0;34m(\u001b[0m\u001b[0mdirectory\u001b[0m\u001b[0;34m,\u001b[0m \u001b[0mf\u001b[0m\u001b[0;34m)\u001b[0m\u001b[0;34m)\u001b[0m\u001b[0;34m]\u001b[0m\u001b[0;34m\u001b[0m\u001b[0m\n\u001b[0m\u001b[1;32m     24\u001b[0m     \u001b[0;32mfor\u001b[0m \u001b[0mf\u001b[0m \u001b[0;32min\u001b[0m \u001b[0mfiles\u001b[0m\u001b[0;34m:\u001b[0m\u001b[0;34m\u001b[0m\u001b[0m\n\u001b[1;32m     25\u001b[0m         \u001b[0mfile_text\u001b[0m \u001b[0;34m=\u001b[0m \u001b[0mread_file\u001b[0m\u001b[0;34m(\u001b[0m\u001b[0mjoin\u001b[0m\u001b[0;34m(\u001b[0m\u001b[0mdirectory\u001b[0m\u001b[0;34m,\u001b[0m \u001b[0mf\u001b[0m\u001b[0;34m)\u001b[0m\u001b[0;34m)\u001b[0m\u001b[0;34m\u001b[0m\u001b[0m\n",
      "\u001b[0;31mFileNotFoundError\u001b[0m: [Errno 2] No such file or directory: '/repos/GWU/gwu_nlp_s19/homeworks/homework_1/data/'"
     ]
    }
   ],
   "source": [
    "import nltk.data\n",
    "from os import listdir\n",
    "from os.path import isfile, join\n",
    "from nltk.util import bigrams \n",
    "from nltk.tokenize import TreebankWordTokenizer\n",
    "sentence_tokenizer = nltk.data.load('tokenizers/punkt/english.pickle')\n",
    "treebank_tokenizer = TreebankWordTokenizer()\n",
    "\n",
    "dir_base = \"/repos/GWU/gwu_nlp_s19/homeworks/homework_1/data/\"\n",
    "\n",
    "\n",
    "####\n",
    "# Notice: We are reusing code from class notes... remember these kind of building blocks\n",
    "####\n",
    "\n",
    "def read_file(filename):\n",
    "    input_file_text = open(filename , encoding='utf-8').read()\n",
    "    return input_file_text\n",
    "\n",
    "    \n",
    "def read_directory_files(directory):\n",
    "    file_texts = []\n",
    "    files = [f for f in listdir(directory) if isfile(join(directory, f))]\n",
    "    for f in files:\n",
    "        file_text = read_file(join(directory, f))\n",
    "        print(file_text)\n",
    "        file_texts.append({\"file\":f, \"content\": file_text })\n",
    "    return file_texts\n",
    "    \n",
    "text_corpus = read_directory_files(dir_base)\n",
    "print(text_corpus)"
   ]
  },
  {
   "cell_type": "code",
   "execution_count": null,
   "metadata": {},
   "outputs": [],
   "source": [
    "def process_debate(debate_object):\n",
    "    debate_name = debate[\"file\"]\n",
    "    debate_text = debate[\"content\"]\n",
    "    \n",
    "    possible_rhetorical_questions = []\n",
    "    \n",
    "    #### process debate text\n",
    "    # you need to iterate over each sentence in the debate record\n",
    "    # identify based on the features of the sentence if it is a question or contains a question.\n",
    "    # add the candidate to the above list\n",
    "    # one thing you will need to consider is that rhetorical questions will typically occur \n",
    "    # in one speaker's speech and not be followed by someone else responding. \n",
    "    # So you will need to think about to examine the following sentence once you've \n",
    "    # identified a possible question\n",
    "    \n",
    "    # the identified questions should track what the question was and what debate it came from.\n",
    "    \n",
    "    return possible_rhetorical_questions\n",
    "\n",
    "\n"
   ]
  },
  {
   "cell_type": "code",
   "execution_count": null,
   "metadata": {},
   "outputs": [],
   "source": [
    "all_rhetorical_questions = []\n",
    "for debate in text_corpus:\n",
    "    process_debate(debate)"
   ]
  },
  {
   "cell_type": "markdown",
   "metadata": {},
   "source": [
    "# Analysis of your results"
   ]
  },
  {
   "cell_type": "markdown",
   "metadata": {},
   "source": [
    "Below this cell, please put a short writeup of your approach and comments on your results. The goal here is to explain how well you think your method worked based on looking at some of your output data. Additionally, please describe things you might do fifferently or ways in which you might improve the process if you were given more time."
   ]
  }
 ],
 "metadata": {
  "kernelspec": {
   "display_name": "Python 3",
   "language": "python",
   "name": "python3"
  },
  "language_info": {
   "codemirror_mode": {
    "name": "ipython",
    "version": 3
   },
   "file_extension": ".py",
   "mimetype": "text/x-python",
   "name": "python",
   "nbconvert_exporter": "python",
   "pygments_lexer": "ipython3",
   "version": "3.6.5"
  }
 },
 "nbformat": 4,
 "nbformat_minor": 2
}
